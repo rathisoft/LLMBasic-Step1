{
 "cells": [
  {
   "cell_type": "markdown",
   "metadata": {},
   "source": [
    "First we'll need to import the Cohere SDK package."
   ]
  },
  {
   "cell_type": "code",
   "execution_count": null,
   "metadata": {},
   "outputs": [],
   "source": [
    "\n",
    "# pip install langchain-cohere"
   ]
  },
  {
   "cell_type": "markdown",
   "metadata": {},
   "source": [
    "Pass the key in directly via the cohere_api_key named parameter when initiating the Cohere LLM class:"
   ]
  },
  {
   "cell_type": "code",
   "execution_count": 1,
   "metadata": {},
   "outputs": [],
   "source": [
    "from langchain_cohere import ChatCohere\n",
    "\n",
    "llm = ChatCohere(cohere_api_key=\"-----\")\n",
    "\n"
   ]
  },
  {
   "cell_type": "markdown",
   "metadata": {},
   "source": [
    "Once you've installed and initialized the LLM of your choice, we can try using it! Let's ask it what LangSmith is - this is something that wasn't present in the training data so it shouldn't have a very good response."
   ]
  },
  {
   "cell_type": "code",
   "execution_count": 2,
   "metadata": {},
   "outputs": [
    {
     "data": {
      "text/plain": [
       "AIMessage(content=\"Langsmith can help with testing in a number of ways: \\n\\n- **Automated Testing**: Langsmith can be used to automate various testing tasks. With its natural language processing capabilities, it can understand and generate human language, which can be used to create automated test scripts that mimic user interactions with a system. This can speed up the testing process and reduce the need for manual testing. \\n\\n- **Test Case Generation**: Langsmith can assist in generating test cases by using its language generation capabilities. Given a set of requirements or user stories, Langsmith can generate a variety of test cases that cover different scenarios, including edge cases and negative tests. This helps ensure comprehensive test coverage. \\n\\n- **Test Data Generation**: Langsmith can also be leveraged to generate test data, especially for language-related fields such as user input validation, error messages, or content generation. By generating a diverse set of text data, Langsmith can help testers create robust test suites that cover a wide range of inputs. \\n\\n- **Natural Language Understanding**: Langsmith's ability to understand natural language can be beneficial for testing user interfaces and conversational agents. It can analyze and interpret user inputs, system responses, and error messages, helping testers identify issues related to language processing, such as incorrect interpretations or inadequate responses. \\n\\n- **Localization Testing**: Langsmith supports multiple languages, which makes it useful for localization testing. It can help testers validate the accuracy of translations, ensure that the user interface adapts to different languages, and check that the application behaves correctly in different linguistic and cultural contexts. \\n\\n- **Report Generation**: Langsmith can assist in generating test reports by summarizing test results, describing issues, and providing suggestions. Its language generation capabilities can be leveraged to create clear and concise test reports that are easy for stakeholders to understand. \\n\\nBy leveraging Langsmith's capabilities, testers can streamline their testing processes, improve test coverage, and enhance the overall quality of their software products, especially in areas related to language processing and user interactions.\", additional_kwargs={'documents': None, 'citations': None, 'search_results': None, 'search_queries': None, 'is_search_required': None, 'generation_id': '2e07f263-198b-4533-bc25-b8c3defeea3b'}, response_metadata={'documents': None, 'citations': None, 'search_results': None, 'search_queries': None, 'is_search_required': None, 'generation_id': '2e07f263-198b-4533-bc25-b8c3defeea3b'}, id='run-ff5ed377-fcc2-490f-8946-75facab0ce24-0')"
      ]
     },
     "execution_count": 2,
     "metadata": {},
     "output_type": "execute_result"
    }
   ],
   "source": [
    "llm.invoke(\"how can langsmith help with testing?\")"
   ]
  },
  {
   "cell_type": "markdown",
   "metadata": {},
   "source": [
    "We can also guide its response with a prompt template. Prompt templates convert raw user input to better input to the LLM."
   ]
  },
  {
   "cell_type": "markdown",
   "metadata": {},
   "source": [
    "We can now combine these into a simple LLM chain:"
   ]
  },
  {
   "cell_type": "code",
   "execution_count": 3,
   "metadata": {},
   "outputs": [],
   "source": [
    "from langchain_core.prompts import ChatPromptTemplate\n",
    "prompt = ChatPromptTemplate.from_messages([\n",
    "    (\"system\", \"You are a world class technical documentation writer.\"),\n",
    "    (\"user\", \"{input}\")\n",
    "])"
   ]
  },
  {
   "cell_type": "code",
   "execution_count": 4,
   "metadata": {},
   "outputs": [],
   "source": [
    "chain = prompt | llm "
   ]
  },
  {
   "cell_type": "markdown",
   "metadata": {},
   "source": [
    "We can now invoke it and ask the same question. It still won't know the answer, but it should respond in a more proper tone for a technical writer!\n"
   ]
  },
  {
   "cell_type": "code",
   "execution_count": 5,
   "metadata": {},
   "outputs": [
    {
     "data": {
      "text/plain": [
       "AIMessage(content=\"Langsmith is a powerful tool that can greatly assist with testing and quality assurance processes. Here's how Langsmith can help:\\n\\n**1. Generate Test Data:** Langsmith can be used to generate a variety of realistic and contextually appropriate test data. You can create test cases, scenarios, and user inputs that mimic real-world usage, helping you identify and address potential issues before your product or service goes live.\\n\\n**2. Test Case Writing and Documentation:** Langsmith's language generation capabilities can assist in writing clear and concise test case documentation. It can help structure test plans, outline test steps, and describe expected outcomes, ensuring that your test cases are well-organized and easy to follow.\\n\\n**3. Test Coverage and Edge Cases:** By generating a wide range of language variations and scenarios, Langsmith can help identify areas of your product that may have insufficient test coverage. It can suggest edge cases, boundary conditions, and alternative phrasing that might otherwise be overlooked, improving the robustness of your testing.\\n\\n**4. Internationalization and Localization:** If your product is intended for a global audience, Langsmith can help with internationalization and localization testing. It can generate text in multiple languages, allowing you to test your product's functionality, user interface, and content across different languages and cultural contexts.\\n\\n**5. Automated Testing and Chatbot Simulations:** Langsmith's API enables you to integrate language generation into your automated testing frameworks. You can use it to simulate user interactions with chatbots or voice assistants, test natural language processing (NLP) models, and validate their responses, ensuring they align with expected behaviors.\\n\\n**6. Error Message and User Feedback:** Langsmith can assist in crafting clear and user-friendly error messages and feedback. By generating a variety of responses, you can ensure that your product provides meaningful and contextually appropriate information to users when things go wrong.\\n\\n**7. A/B Testing and User Experience:** Langsmith can be leveraged to generate variations of user interfaces, content, and messaging for A/B testing. This helps optimize the user experience by identifying which versions perform better with your target audience.\\n\\n**8. Test Summary Reports:** Langsmith can aid in generating test summary reports by automatically creating concise and informative descriptions of test results, highlighting key findings, and providing insights to stakeholders.\\n\\n**9. Test Data Management:** Langsmith can help manage and organize your test data by generating metadata, tags, and descriptions for efficient retrieval and reuse. This improves collaboration among team members and ensures consistency across testing cycles.\\n\\n**10. Continuous Integration and Deployment (CI/CD):** By integrating Langsmith into your CI/CD pipelines, you can automate the generation of test data, test cases, and documentation. This streamlines your testing processes, ensuring that testing is an integral part of your development lifecycle.\\n\\nHere's an example of how you might use Langsmith to generate test data for a simple registration form:\\n\\n```\\nInput:\\nCreate 5 unique user profiles for testing a registration form, including name, email, and password.\\n\\nOutput:\\n1. Name: Emma Johnson | Email: emmajohnson@example.com | Password: Sunflower!23\\n2. Name: Ethan Miller | Email: ethan.miller@example.com | Password: Trekkie#7\\n3. Name: Sophia Martinez | Email: sophia_martinez@example.com | Password: Butterfly$45\\n4. Name: Justin Park | Email: justinpark@example.net | Password: Basketball%9\\n5. Name: Amelia Wilson | Email: amelia.wilson@example.org | Password: Violinist^10\\n```\\n\\nIn this example, Langsmith generates unique and valid test data for user profiles, ensuring variety in names, emails, and passwords, which can then be used to thoroughly test the registration form.\\n\\nRemember, Langsmith's flexibility allows you to customize the output to match your specific testing requirements, data formats, and use cases.\", additional_kwargs={'documents': None, 'citations': None, 'search_results': None, 'search_queries': None, 'is_search_required': None, 'generation_id': '5c6c9ed9-c748-4054-be7e-50ca5a9cb51c'}, response_metadata={'documents': None, 'citations': None, 'search_results': None, 'search_queries': None, 'is_search_required': None, 'generation_id': '5c6c9ed9-c748-4054-be7e-50ca5a9cb51c'}, id='run-3120c34b-cbad-4998-86a4-9d863723b1ff-0')"
      ]
     },
     "execution_count": 5,
     "metadata": {},
     "output_type": "execute_result"
    }
   ],
   "source": [
    "chain.invoke({\"input\": \"how can langsmith help with testing?\"})"
   ]
  },
  {
   "cell_type": "markdown",
   "metadata": {},
   "source": [
    "The output of a ChatModel (and therefore, of this chain) is a message. However, it's often much more convenient to work with strings. Let's add a simple output parser to convert the chat message to a string."
   ]
  },
  {
   "cell_type": "code",
   "execution_count": 6,
   "metadata": {},
   "outputs": [
    {
     "data": {
      "text/plain": [
       "AIMessage(content=\"Langsmith is a powerful tool that can greatly assist with testing and quality assurance processes. Here's how Langsmith can help:\\n\\n**1. Generate Test Data:** Langsmith can be used to generate a variety of realistic and contextually appropriate test data. You can create test cases, scenarios, and user inputs that mimic real-world usage, helping you identify and address potential issues before your product or service goes live.\\n\\n**2. Test Input Validation:** With its advanced language understanding capabilities, Langsmith can help test input validation and error handling. By generating a diverse range of inputs, including common variations, edge cases, and potential errors, you can ensure that your system can handle different scenarios and provide appropriate responses.\\n\\n**3. Localization Testing:** If your product or service is targeted at a global audience, Langsmith's multilingual capabilities become especially useful. You can generate test content in multiple languages, helping you identify issues related to translation, character encoding, layout, and cultural appropriateness.\\n\\n**4. Test Instruction Writing:** Langsmith can assist in writing clear and concise test instructions and documentation. By generating content tailored to specific test scenarios, you can provide comprehensive instructions for testers, reducing ambiguity and ensuring consistent test execution.\\n\\n**5. Test Coverage Analysis:** Langsmith's generated content can help improve test coverage. By creating diverse test inputs and scenarios, you can identify areas of your system that may have been overlooked during manual testing. This ensures that your testing efforts are comprehensive and that potential issues are identified early on.\\n\\n**6. Automated Testing:** Langsmith's API can be integrated into your automated testing frameworks. By generating dynamic and varied test inputs, you can enhance your automated tests, making them more robust and effective in identifying bugs and regressions.\\n\\n**7. User Experience Testing:** Langsmith can generate user stories and scenarios to help with user experience testing. By creating realistic user profiles and narratives, you can gain insights into how users might interact with your product, helping you identify usability issues and improve the overall user experience.\\n\\n**8. A/B Testing:** Langsmith can assist in A/B testing by generating variations of content for comparison. This can include UI text, marketing copy, or feature descriptions. By generating multiple versions, you can test and optimize different approaches to improve conversion rates and user engagement.\\n\\n**9. Test Report Generation:** Langsmith can aid in the generation of test reports by summarizing test activities, findings, and metrics. This helps streamline the reporting process, ensuring that stakeholders receive clear and concise updates on testing progress and outcomes.\\n\\n**10. Test Maintenance:** Langsmith can simplify test maintenance by automatically updating test cases and scenarios as your product evolves. This ensures that your tests remain relevant and synchronized with any changes in the underlying functionality or requirements.\\n\\nBy leveraging Langsmith's capabilities, you can streamline your testing processes, improve test coverage, and identify issues early on. This results in higher-quality products, reduced time-to-market, and improved user satisfaction.\", additional_kwargs={'documents': None, 'citations': None, 'search_results': None, 'search_queries': None, 'is_search_required': None, 'generation_id': 'f7f8d4a4-0726-46c3-b84c-250a4ca4fe61'}, response_metadata={'documents': None, 'citations': None, 'search_results': None, 'search_queries': None, 'is_search_required': None, 'generation_id': 'f7f8d4a4-0726-46c3-b84c-250a4ca4fe61'}, id='run-84c3b0fb-5c66-47e6-bdce-0221c6c31cdb-0')"
      ]
     },
     "execution_count": 6,
     "metadata": {},
     "output_type": "execute_result"
    }
   ],
   "source": [
    "from langchain_core.output_parsers import StrOutputParser\n",
    "\n",
    "output_parser = StrOutputParser()\n",
    "\n",
    "chain.invoke({\"input\": \"how can langsmith help with testing?\"})"
   ]
  },
  {
   "cell_type": "markdown",
   "metadata": {},
   "source": [
    "We can now add this to the previous chain:"
   ]
  },
  {
   "cell_type": "code",
   "execution_count": 7,
   "metadata": {},
   "outputs": [],
   "source": [
    "chain = prompt | llm | output_parser"
   ]
  },
  {
   "cell_type": "markdown",
   "metadata": {},
   "source": [
    "We can now invoke it and ask the same question. The answer will now be a string (rather than a ChatMessage)."
   ]
  },
  {
   "cell_type": "code",
   "execution_count": 8,
   "metadata": {},
   "outputs": [
    {
     "data": {
      "text/plain": [
       "\"Langsmith is a powerful tool that can greatly assist with testing and quality assurance processes, especially for software products with a user interface or natural language processing capabilities. Here's how Langsmith can help with testing:\\n\\n1. **User Interface Testing**:\\n   - Internationalization and Localization: Langsmith enables you to easily translate and localize your user interface, including buttons, menus, dialogs, and help content. This facilitates testing in different languages to ensure proper rendering, layout, and cultural appropriateness.\\n   - Multilingual Testing: With Langsmith, you can generate translations for multiple languages, allowing you to test your software's user interface across different language versions. This helps identify any translation errors, layout issues, or functional problems that may arise due to language-specific characteristics.\\n\\n2. **Functional Testing**:\\n   - Natural Language Processing: If your software incorporates natural language processing (NLP) capabilities, such as chatbots or voice recognition, Langsmith can aid in testing. You can use Langsmith to generate a variety of inputs in different languages, simulating user queries or commands. This helps test the accuracy and effectiveness of your NLP models.\\n   - Input Validation: Langsmith can assist in testing input validation routines by providing a range of valid and invalid inputs in different languages. This helps identify any issues with how the software handles multilingual input data, ensuring that validation rules are correctly applied regardless of the user's language.\\n\\n3. **Content Testing**:\\n   - Translation Accuracy: Langsmith's high-quality machine translation can help identify potential issues with translated content. By comparing the translated output with the original, you can spot inconsistencies, incorrect terminology, or context-related errors. This ensures that the translated content accurately reflects the source material.\\n   - Grammar and Syntax Checking: Langsmith's grammar and syntax checking capabilities can assist in identifying errors or inconsistencies in text content. This is particularly useful for testing help documentation, error messages, or any text-based content that needs to be clear and correct across different languages.\\n\\n4. **Test Case Generation**:\\n   - Langsmith can be used to generate test cases by providing variations of input data in different languages. This helps expand your test coverage, especially when dealing with multilingual user inputs or content. By automatically generating test cases, you can save time and effort in manual test case creation.\\n\\n5. **Regression Testing**:\\n   - When updating or modifying your software, Langsmith can assist in regression testing by quickly translating updated content and identifying any new issues introduced during development. This ensures that changes do not inadvertently cause problems in previously working language-specific functionalities.\\n\\n6. **User Experience Testing**:\\n   - Langsmith enables you to gather feedback from users in their native languages, helping you understand their experiences and preferences. By analyzing user feedback, you can identify areas where the user interface, documentation, or translation can be improved to enhance the overall user experience.\\n\\nBy leveraging Langsmith's capabilities, you can streamline your testing processes, improve translation quality, and ensure a positive user experience for a global audience. Remember to combine Langsmith's automated translations with human review for the best results, especially when dealing with complex linguistic nuances or culturally sensitive content.\""
      ]
     },
     "execution_count": 8,
     "metadata": {},
     "output_type": "execute_result"
    }
   ],
   "source": [
    "chain.invoke({\"input\": \"how can langsmith help with testing?\"})"
   ]
  },
  {
   "cell_type": "markdown",
   "metadata": {},
   "source": [
    "Yay! We've now successfully set up a basic LLM chain. In thiw we have touched on the basics of prompts, models, and output parser"
   ]
  }
 ],
 "metadata": {
  "kernelspec": {
   "display_name": "Python 3",
   "language": "python",
   "name": "python3"
  },
  "language_info": {
   "codemirror_mode": {
    "name": "ipython",
    "version": 3
   },
   "file_extension": ".py",
   "mimetype": "text/x-python",
   "name": "python",
   "nbconvert_exporter": "python",
   "pygments_lexer": "ipython3",
   "version": "3.10.7"
  }
 },
 "nbformat": 4,
 "nbformat_minor": 2
}
